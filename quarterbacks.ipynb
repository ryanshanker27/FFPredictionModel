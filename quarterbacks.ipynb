{
 "cells": [
  {
   "cell_type": "code",
   "execution_count": 312,
   "id": "8527449b",
   "metadata": {},
   "outputs": [],
   "source": [
    "import pandas as pd\n",
    "import numpy as np\n",
    "import requests\n",
    "from bs4 import BeautifulSoup\n",
    "import json\n",
    "import validators\n",
    "import datetime\n",
    "import math\n",
    "import re\n",
    "import ipynb\n",
    "import warnings\n",
    "import time"
   ]
  },
  {
   "cell_type": "code",
   "execution_count": 313,
   "id": "6dd37831",
   "metadata": {},
   "outputs": [],
   "source": [
    "warnings.filterwarnings(\"ignore\")"
   ]
  },
  {
   "cell_type": "code",
   "execution_count": 314,
   "id": "7cf54cd5",
   "metadata": {},
   "outputs": [],
   "source": [
    "def find_tables_qb(first, last, team, year):\n",
    "    for i in range(0,10):\n",
    "        try:\n",
    "            if len(last) < 4:\n",
    "                last = last + 'x'\n",
    "            url = 'https://www.pro-football-reference.com/players/%s/%s%s0%i.htm' % (last[0], last[0:4], first[0:2], i)\n",
    "            if first == 'Derek' and last == 'Carr':\n",
    "                url = 'https://www.pro-football-reference.com/players/C/CarrDe02.htm'\n",
    "            elif last == 'Mariota':\n",
    "                url = 'https://www.pro-football-reference.com/players/M/MariMa01.htm'\n",
    "            response = requests.get(url)\n",
    "            if response.status_code != 404:\n",
    "                x = pd.read_html(url)\n",
    "                df = x[0]\n",
    "                df[df.columns[0]] = df[df.columns[0]].str.replace(r'[\\*+]', '', regex=True)\n",
    "                if (df[df[df.columns[0]] == str(year)][df.columns[2]]).values == team:\n",
    "                    for i in range(1, len(x)):\n",
    "                        df2 = x[i]\n",
    "                        if ('Rushing', 'Yds') in df2.columns:\n",
    "                            df2[df2.columns[0]] = df2[df2.columns[0]].str.replace(r'[\\*+]', '', regex=True)\n",
    "                            return x[0], x[i], response\n",
    "        except:\n",
    "            pass\n",
    "    return 0, 0, 0 \n",
    "\n",
    "def find_age(response, year):\n",
    "    soup = BeautifulSoup(response.content, \"html.parser\")\n",
    "    x = soup.find('div', {'id': 'info'})\n",
    "    dob = x.find('span\"', {'id': 'necro-birth'})['data-birth']\n",
    "    return math.floor(((datetime.date(year, 9, 7) - datetime.date(int(dob[0:4]), int(dob[5:7]), int(dob[8:10]))).days)/365)"
   ]
  },
  {
   "cell_type": "code",
   "execution_count": 315,
   "id": "e80f57f8",
   "metadata": {},
   "outputs": [],
   "source": [
    "qbs = pd.read_csv('qbs.csv')"
   ]
  },
  {
   "cell_type": "code",
   "execution_count": 316,
   "id": "66e5e0e7",
   "metadata": {},
   "outputs": [],
   "source": [
    "qbs.drop(columns = 'Unnamed: 0', inplace = True)"
   ]
  },
  {
   "cell_type": "code",
   "execution_count": 317,
   "id": "d660f0fc",
   "metadata": {},
   "outputs": [],
   "source": [
    "qb2022 = pd.read_csv('2022qbs.csv')\n",
    "corr_teams = pd.read_html('https://www.pro-football-reference.com/years/2022/fantasy.htm')\n",
    "corrqb2022 = corr_teams[0][[('Unnamed: 1_level_0',  'Player'), ('Unnamed: 2_level_0',      'Tm'), ('Unnamed: 3_level_0', 'FantPos')]]"
   ]
  },
  {
   "cell_type": "code",
   "execution_count": 318,
   "id": "29b28937",
   "metadata": {},
   "outputs": [],
   "source": [
    "corrqb2022[('Unnamed: 1_level_0',  'Player')] = corrqb2022[('Unnamed: 1_level_0',  'Player')].str.replace(r'[\\*+]', '', \n",
    "                                                                                                regex=True)"
   ]
  },
  {
   "cell_type": "code",
   "execution_count": 319,
   "id": "c7279e5e",
   "metadata": {},
   "outputs": [],
   "source": [
    "corrqb2022 = corrqb2022[corrqb2022[('Unnamed: 3_level_0', 'FantPos')] == 'QB']"
   ]
  },
  {
   "cell_type": "code",
   "execution_count": 320,
   "id": "881b323a",
   "metadata": {},
   "outputs": [],
   "source": [
    "# qb2022 = qb2022.nlargest(50, 'FPTS')\n",
    "qb2022['Player'] = qb2022['Player'].replace('III', '', regex = True)\n",
    "qb2022['Player'] = qb2022['Player'].replace('II', '', regex = True)"
   ]
  },
  {
   "cell_type": "code",
   "execution_count": 321,
   "id": "41591707",
   "metadata": {},
   "outputs": [],
   "source": [
    "x = qb2022['Player'].str.split(' ', expand = True)"
   ]
  },
  {
   "cell_type": "code",
   "execution_count": 322,
   "id": "582ce9db",
   "metadata": {},
   "outputs": [],
   "source": [
    "for i in range(0, len(x)):\n",
    "    if x.loc[i,2] == \"\":\n",
    "        x.loc[i,2] = x.loc[i,3]\n",
    "x.drop(columns = 3, inplace = True)\n",
    "x[2] = x[2].replace(r'[()]', '', regex = True)"
   ]
  },
  {
   "cell_type": "code",
   "execution_count": 323,
   "id": "a6656d75",
   "metadata": {},
   "outputs": [],
   "source": [
    "qb2022[['First', 'Last', 'Tm']] = x\n",
    "qb2022['Player'] = [i.strip() if isinstance(i,str) else i for i in qb2022['Player'].str.split('(', expand = True)[0]]\n",
    "qb2022['Year'] = 2022\n",
    "qb2022['Pos'] = 'QB'\n",
    "qb2022.dropna(inplace = True)\n",
    "qb2022['Age'] = None\n",
    "qb2022.drop(columns = 'Rank', inplace = True)"
   ]
  },
  {
   "cell_type": "code",
   "execution_count": 324,
   "id": "9d9cd235",
   "metadata": {
    "scrolled": true
   },
   "outputs": [],
   "source": [
    "x = pd.DataFrame()\n",
    "x['Player'] = corrqb2022[('Unnamed: 1_level_0',  'Player')]\n",
    "x['Tm'] = corrqb2022[('Unnamed: 2_level_0',      'Tm')]\n",
    "x['Pos'] = corrqb2022[('Unnamed: 3_level_0', 'FantPos')]"
   ]
  },
  {
   "cell_type": "code",
   "execution_count": 325,
   "id": "6cb140e0",
   "metadata": {},
   "outputs": [],
   "source": [
    "qb2022 = pd.merge(qb2022, x, on = 'Player')"
   ]
  },
  {
   "cell_type": "code",
   "execution_count": 326,
   "id": "df3df32d",
   "metadata": {},
   "outputs": [],
   "source": [
    "qb2022.drop(columns = ['Tm_x', 'Pos_x'], inplace = True)\n",
    "qb2022.rename(columns = {'Tm_y': 'Tm', 'Pos_y': 'Pos'}, inplace = True)"
   ]
  },
  {
   "cell_type": "code",
   "execution_count": 328,
   "id": "b9969f53",
   "metadata": {},
   "outputs": [],
   "source": [
    "column_order = ['First', 'Last', 'Year', 'Tm', 'Pos', 'Age', 'FPTS', 'Player']\n",
    "qb2022 = qb2022.reindex(columns = column_order)\n",
    "qb2022.rename(columns = {'FPTS': 'FantasyPoints'}, inplace = True)"
   ]
  },
  {
   "cell_type": "code",
   "execution_count": 329,
   "id": "d58c5bfd",
   "metadata": {},
   "outputs": [],
   "source": [
    "totalqbs = pd.concat([qbs, qb2022])\n",
    "totalqbs = totalqbs.reset_index().drop(columns = 'index')"
   ]
  },
  {
   "cell_type": "code",
   "execution_count": 330,
   "id": "12828327",
   "metadata": {},
   "outputs": [],
   "source": [
    "totalqbs = totalqbs.sort_values('FantasyPoints', ascending = False).groupby('Year').head(40)\n",
    "totalqbs = totalqbs.reset_index().drop(columns = 'index')"
   ]
  },
  {
   "cell_type": "code",
   "execution_count": 332,
   "id": "9138a401",
   "metadata": {},
   "outputs": [
    {
     "data": {
      "text/html": [
       "<div>\n",
       "<style scoped>\n",
       "    .dataframe tbody tr th:only-of-type {\n",
       "        vertical-align: middle;\n",
       "    }\n",
       "\n",
       "    .dataframe tbody tr th {\n",
       "        vertical-align: top;\n",
       "    }\n",
       "\n",
       "    .dataframe thead th {\n",
       "        text-align: right;\n",
       "    }\n",
       "</style>\n",
       "<table border=\"1\" class=\"dataframe\">\n",
       "  <thead>\n",
       "    <tr style=\"text-align: right;\">\n",
       "      <th></th>\n",
       "      <th>First</th>\n",
       "      <th>Last</th>\n",
       "      <th>Year</th>\n",
       "      <th>Tm</th>\n",
       "      <th>Pos</th>\n",
       "      <th>Age</th>\n",
       "      <th>FantasyPoints</th>\n",
       "      <th>Player</th>\n",
       "    </tr>\n",
       "  </thead>\n",
       "  <tbody>\n",
       "    <tr>\n",
       "      <th>489</th>\n",
       "      <td>Baker</td>\n",
       "      <td>Mayfield</td>\n",
       "      <td>2022</td>\n",
       "      <td>2TM</td>\n",
       "      <td>QB</td>\n",
       "      <td>NaN</td>\n",
       "      <td>129.40</td>\n",
       "      <td>Baker Mayfield</td>\n",
       "    </tr>\n",
       "    <tr>\n",
       "      <th>600</th>\n",
       "      <td>Kyle</td>\n",
       "      <td>Orton</td>\n",
       "      <td>2011</td>\n",
       "      <td>2TM</td>\n",
       "      <td>QB</td>\n",
       "      <td>29.0</td>\n",
       "      <td>85.62</td>\n",
       "      <td>Kyle Orton</td>\n",
       "    </tr>\n",
       "    <tr>\n",
       "      <th>646</th>\n",
       "      <td>Ryan</td>\n",
       "      <td>Mallett</td>\n",
       "      <td>2015</td>\n",
       "      <td>2TM</td>\n",
       "      <td>QB</td>\n",
       "      <td>27.0</td>\n",
       "      <td>68.94</td>\n",
       "      <td>Ryan Mallett</td>\n",
       "    </tr>\n",
       "    <tr>\n",
       "      <th>652</th>\n",
       "      <td>Brandon</td>\n",
       "      <td>Weeden</td>\n",
       "      <td>2015</td>\n",
       "      <td>2TM</td>\n",
       "      <td>QB</td>\n",
       "      <td>32.0</td>\n",
       "      <td>66.42</td>\n",
       "      <td>Brandon Weeden</td>\n",
       "    </tr>\n",
       "    <tr>\n",
       "      <th>657</th>\n",
       "      <td>Matt</td>\n",
       "      <td>Cassel</td>\n",
       "      <td>2015</td>\n",
       "      <td>2TM</td>\n",
       "      <td>QB</td>\n",
       "      <td>33.0</td>\n",
       "      <td>64.84</td>\n",
       "      <td>Matt Cassel</td>\n",
       "    </tr>\n",
       "    <tr>\n",
       "      <th>661</th>\n",
       "      <td>Brian</td>\n",
       "      <td>Hoyer</td>\n",
       "      <td>2017</td>\n",
       "      <td>2TM</td>\n",
       "      <td>QB</td>\n",
       "      <td>32.0</td>\n",
       "      <td>63.88</td>\n",
       "      <td>Brian Hoyer</td>\n",
       "    </tr>\n",
       "  </tbody>\n",
       "</table>\n",
       "</div>"
      ],
      "text/plain": [
       "       First      Last  Year   Tm Pos   Age  FantasyPoints          Player\n",
       "489    Baker  Mayfield  2022  2TM  QB   NaN         129.40  Baker Mayfield\n",
       "600     Kyle     Orton  2011  2TM  QB  29.0          85.62      Kyle Orton\n",
       "646     Ryan   Mallett  2015  2TM  QB  27.0          68.94    Ryan Mallett\n",
       "652  Brandon    Weeden  2015  2TM  QB  32.0          66.42  Brandon Weeden\n",
       "657     Matt    Cassel  2015  2TM  QB  33.0          64.84     Matt Cassel\n",
       "661    Brian     Hoyer  2017  2TM  QB  32.0          63.88     Brian Hoyer"
      ]
     },
     "execution_count": 332,
     "metadata": {},
     "output_type": "execute_result"
    }
   ],
   "source": [
    "totalqbs[totalqbs['Tm'] == '2TM']"
   ]
  },
  {
   "cell_type": "code",
   "execution_count": 333,
   "id": "d38ba104",
   "metadata": {},
   "outputs": [],
   "source": [
    "totalqbs['Last'] = totalqbs['Last'].replace(\"'\", '', regex = True)"
   ]
  },
  {
   "cell_type": "code",
   "execution_count": 334,
   "id": "7b099115",
   "metadata": {},
   "outputs": [],
   "source": [
    "totalqbs['QBR'] = np.nan\n",
    "totalqbs['PassAtt'] = np.nan\n",
    "totalqbs['PassYds'] = np.nan\n",
    "totalqbs['PassTD'] = np.nan\n",
    "totalqbs['PassCmp'] = np.nan\n",
    "totalqbs['Int'] = np.nan\n",
    "totalqbs['RushAtt'] = np.nan\n",
    "totalqbs['RushYards'] = np.nan\n",
    "totalqbs['RushTD'] = np.nan\n",
    "totalqbs['Fumbles'] = np.nan\n",
    "totalqbs['Experience'] = np.nan"
   ]
  },
  {
   "cell_type": "code",
   "execution_count": 2,
   "id": "47ed3dd4",
   "metadata": {
    "scrolled": true
   },
   "outputs": [
    {
     "ename": "NameError",
     "evalue": "name 'time' is not defined",
     "output_type": "error",
     "traceback": [
      "\u001b[0;31m---------------------------------------------------------------------------\u001b[0m",
      "\u001b[0;31mNameError\u001b[0m                                 Traceback (most recent call last)",
      "\u001b[0;32m<ipython-input-2-76e4cee2e796>\u001b[0m in \u001b[0;36m<module>\u001b[0;34m\u001b[0m\n\u001b[0;32m----> 1\u001b[0;31m \u001b[0mstart\u001b[0m \u001b[0;34m=\u001b[0m \u001b[0mtime\u001b[0m\u001b[0;34m.\u001b[0m\u001b[0mtime\u001b[0m\u001b[0;34m(\u001b[0m\u001b[0;34m)\u001b[0m\u001b[0;34m\u001b[0m\u001b[0;34m\u001b[0m\u001b[0m\n\u001b[0m\u001b[1;32m      2\u001b[0m \u001b[0;32mfor\u001b[0m \u001b[0mi\u001b[0m \u001b[0;32min\u001b[0m \u001b[0mrange\u001b[0m\u001b[0;34m(\u001b[0m\u001b[0mlen\u001b[0m\u001b[0;34m(\u001b[0m\u001b[0mtotalqbs\u001b[0m\u001b[0;34m)\u001b[0m\u001b[0;34m)\u001b[0m\u001b[0;34m:\u001b[0m\u001b[0;34m\u001b[0m\u001b[0;34m\u001b[0m\u001b[0m\n\u001b[1;32m      3\u001b[0m \u001b[0;31m#     if i % 100 == 0:\u001b[0m\u001b[0;34m\u001b[0m\u001b[0;34m\u001b[0m\u001b[0;34m\u001b[0m\u001b[0m\n\u001b[1;32m      4\u001b[0m \u001b[0;31m#         print(i, totalqbs.loc[i, 'First'], totalqbs.loc[i, 'Last'])\u001b[0m\u001b[0;34m\u001b[0m\u001b[0;34m\u001b[0m\u001b[0;34m\u001b[0m\u001b[0m\n\u001b[1;32m      5\u001b[0m     \u001b[0;32mtry\u001b[0m\u001b[0;34m:\u001b[0m\u001b[0;34m\u001b[0m\u001b[0;34m\u001b[0m\u001b[0m\n",
      "\u001b[0;31mNameError\u001b[0m: name 'time' is not defined"
     ]
    }
   ],
   "source": [
    "start = time.time()\n",
    "for i in range(len(totalqbs)):\n",
    "#     if i % 100 == 0:\n",
    "#         print(i, totalqbs.loc[i, 'First'], totalqbs.loc[i, 'Last'])\n",
    "    try:    \n",
    "        passing, rushing, response = find_tables_qb(totalqbs.loc[i, 'First'],totalqbs.loc[i, 'Last'],\n",
    "                                                    totalqbs.loc[i, 'Tm'], totalqbs.loc[i, 'Year'])\n",
    "        \n",
    "        passing['Year'] = pd.to_numeric(passing['Year'], errors = 'coerce')\n",
    "        rushing[(( 'Unnamed: 0_level_0',  'Year'))] = pd.to_numeric(rushing[(( 'Unnamed: 0_level_0',  'Year'))], \n",
    "                                                                    errors = 'coerce')\n",
    "        \n",
    "        if totalqbs.loc[i, 'Tm'] == '2TM':\n",
    "            idx = passing[(passing['Tm'] == '2TM') & (passing['Year'] == totalqbs.loc[i, 'Year'])].index + 1\n",
    "            totalqbs.loc[i, 'Tm'] = passing.loc[idx, 'Tm'].iloc[0]\n",
    "        \n",
    "        passing.dropna(subset = ['Age'], inplace = True)\n",
    "        rushing.dropna(subset = [(( 'Unnamed: 1_level_0',   'Age'))], inplace = True)\n",
    "        \n",
    "        totalqbs.loc[i, 'Experience'] = len(passing[passing['Year'] <= totalqbs.loc[i, 'Year']])\n",
    "        \n",
    "        if totalqbs.loc[i, 'Year'] == 2022:\n",
    "            totalqbs.loc[i, 'Age'] = find_age(response, totalqbs.loc[i, 'Year'])\n",
    "        \n",
    "        date = passing[(passing['Year'] < (totalqbs.loc[i, 'Year'])) & (passing['Year'] >= (totalqbs.loc[i, 'Year'] - 2))].reset_index()\n",
    "        date.drop(columns = ['Tm', 'Pos', 'QBrec'], inplace = True)\n",
    "        if 'Awards' in date.columns:\n",
    "            date.drop(columns = ['Awards'], inplace = True)\n",
    "        date = date.astype(float)\n",
    "        \n",
    "        totalqbs.loc[i, 'QBR'] = (date['QBR']*date['G']*(date.index+1)).sum()/(date['G']*(date.index+1)).sum()\n",
    "        totalqbs.loc[i, 'PassTD'] = (date['TD']*date['G']*(date.index+1)).sum()/(date['G']*(date.index+1)).sum()\n",
    "        totalqbs.loc[i, 'Int'] = (date['Int']*date['G']*(date.index+1)).sum()/(date['G']*(date.index+1)).sum()\n",
    "        totalqbs.loc[i, 'PassCmp'] = (date['Cmp']*date['G']*(date.index+1)).sum()/(date['G']*(date.index+1)).sum()\n",
    "        totalqbs.loc[i, 'PassAtt'] = (date['Att']*date['G']*(date.index+1)).sum()/(date['G']*(date.index+1)).sum()\n",
    "        totalqbs.loc[i, 'PassYds'] = (date['Yds']*date['G']*(date.index+1)).sum()/(date['G']*(date.index+1)).sum()\n",
    "        \n",
    "        date = rushing[(rushing[(( 'Unnamed: 0_level_0',  'Year'))] < (totalqbs.loc[i, 'Year'])) & (rushing[(( 'Unnamed: 0_level_0',  'Year'))] >= (totalqbs.loc[i, 'Year'] - 2))].reset_index()\n",
    "        date[('Receiving', 'Ctch%')] = date[('Receiving', 'Ctch%')].replace('%', '', regex = True)\n",
    "        date.drop(columns = [( 'Unnamed: 2_level_0',     'Tm'), \n",
    "                             ( 'Unnamed: 3_level_0',     'Pos')], inplace = True)\n",
    "        if ('Unnamed: 32_level_0', 'Awards') in date.columns:\n",
    "            date.drop(columns = [('Unnamed: 32_level_0', 'Awards')], inplace = True)\n",
    "        date = date.astype(float)\n",
    "        \n",
    "        totalqbs.loc[i, 'RushAtt'] = (date[('Rushing', 'Att')]*date[('Games', 'G')]*(date.index+1)).sum()/(date[('Games', 'G')]*(date.index+1)).sum()\n",
    "        totalqbs.loc[i, 'RushYards'] = (date[('Rushing', 'Yds')]*date[('Games', 'G')]*(date.index+1)).sum()/(date[('Games', 'G')]*(date.index+1)).sum()\n",
    "        totalqbs.loc[i, 'RushTD'] = (date[('Rushing', 'TD')]*date[('Games', 'G')]*(date.index+1)).sum()/(date[('Games','G')]*(date.index+1)).sum()\n",
    "        totalqbs.loc[i, 'Fumbles'] = (date[('Unnamed: 30_level_0', 'Fmb')]*date[('Games', 'G')]*(date.index+1)).sum()/(date[('Games', 'G')]*(date.index+1)).sum()\n",
    "    except:\n",
    "        pass\n",
    "#         print(\"Error:\", totalqbs.loc[i, 'First'], totalqbs.loc[i, 'Last'], \n",
    "#               totalqbs.loc[i, 'Tm'], totalqbs.loc[i, 'Year'])\n",
    "    time.sleep(10)\n",
    "print(time.time() - start)"
   ]
  },
  {
   "cell_type": "code",
   "execution_count": 345,
   "id": "6541a17f",
   "metadata": {},
   "outputs": [],
   "source": [
    "finalqbs = totalqbs.dropna()"
   ]
  },
  {
   "cell_type": "code",
   "execution_count": 347,
   "id": "592c621c",
   "metadata": {},
   "outputs": [],
   "source": [
    "finalqbs.to_csv('finalqbs.csv')"
   ]
  }
 ],
 "metadata": {
  "kernelspec": {
   "display_name": "Python 3",
   "language": "python",
   "name": "python3"
  },
  "language_info": {
   "codemirror_mode": {
    "name": "ipython",
    "version": 3
   },
   "file_extension": ".py",
   "mimetype": "text/x-python",
   "name": "python",
   "nbconvert_exporter": "python",
   "pygments_lexer": "ipython3",
   "version": "3.8.8"
  }
 },
 "nbformat": 4,
 "nbformat_minor": 5
}
