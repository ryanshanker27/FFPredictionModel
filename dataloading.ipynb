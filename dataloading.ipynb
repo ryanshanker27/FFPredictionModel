{
 "cells": [
  {
   "cell_type": "code",
   "execution_count": 2,
   "id": "fe1e9de9",
   "metadata": {},
   "outputs": [],
   "source": [
    "import pandas as pd\n",
    "import numpy as np\n",
    "from bs4 import BeautifulSoup\n",
    "import requests\n",
    "import janitor"
   ]
  },
  {
   "cell_type": "code",
   "execution_count": 28,
   "id": "852357bd",
   "metadata": {},
   "outputs": [],
   "source": [
    "qbs = pd.DataFrame()\n",
    "rbs = pd.DataFrame()\n",
    "wrs = pd.DataFrame()\n",
    "tes = pd.DataFrame()\n",
    "for year in range(2005, 2022):\n",
    "    df = pd.read_csv('https://raw.githubusercontent.com/fantasydatapros/data/master/yearly/%i.csv' % year)\n",
    "    df['Year'] = year\n",
    "    df['Player'] = df['Player'].str.replace(r'[\\*+]', '', regex=True)\n",
    "    if year >= 2020:\n",
    "        df['FantasyPoints'] = df['FantasyPoints'] + df['Rec']\n",
    "    qbs = pd.concat([qbs, df[df['Pos'] == 'QB']])\n",
    "    rbs = pd.concat([rbs, df[df['Pos'] == 'RB']])\n",
    "    wrs = pd.concat([wrs, df[df['Pos'] == 'WR']])\n",
    "    tes = pd.concat([tes, df[df['Pos'] == 'TE']])"
   ]
  },
  {
   "cell_type": "code",
   "execution_count": 29,
   "id": "f131ad85",
   "metadata": {},
   "outputs": [],
   "source": [
    "for df in [qbs, rbs, wrs, tes]:\n",
    "    df[['First', 'Last']] = df['Player'].str.split(' ', expand = True)[[0,1]]\n",
    "    df.drop(columns = ['Unnamed: 0'], inplace = True)"
   ]
  },
  {
   "cell_type": "code",
   "execution_count": 30,
   "id": "f948ad6b",
   "metadata": {},
   "outputs": [],
   "source": [
    "column_order = ['First', 'Last', 'Year', 'Tm', 'Pos', 'Age', 'FantasyPoints', 'Player']\n",
    "qbs = qbs.reindex(columns = column_order)\n",
    "rbs = rbs.reindex(columns = column_order)\n",
    "wrs = wrs.reindex(columns = column_order)\n",
    "tes = tes.reindex(columns = column_order)"
   ]
  },
  {
   "cell_type": "code",
   "execution_count": 33,
   "id": "ea57560b",
   "metadata": {},
   "outputs": [],
   "source": [
    "qbs.to_csv('qbs.csv')\n",
    "rbs.to_csv('rbs.csv')\n",
    "wrs.to_csv('wrs.csv')\n",
    "tes.to_csv('tes.csv')"
   ]
  }
 ],
 "metadata": {
  "kernelspec": {
   "display_name": "Python 3",
   "language": "python",
   "name": "python3"
  },
  "language_info": {
   "codemirror_mode": {
    "name": "ipython",
    "version": 3
   },
   "file_extension": ".py",
   "mimetype": "text/x-python",
   "name": "python",
   "nbconvert_exporter": "python",
   "pygments_lexer": "ipython3",
   "version": "3.8.8"
  }
 },
 "nbformat": 4,
 "nbformat_minor": 5
}
